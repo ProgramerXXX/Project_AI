{
  "nbformat": 4,
  "nbformat_minor": 0,
  "metadata": {
    "colab": {
      "name": "Untitled26.ipynb",
      "provenance": []
    },
    "kernelspec": {
      "name": "python3",
      "display_name": "Python 3"
    },
    "language_info": {
      "name": "python"
    },
    "accelerator": "TPU"
  },
  "cells": [
    {
      "cell_type": "code",
      "metadata": {
        "id": "er67pnEai2A-"
      },
      "source": [
        "import cv2 as cv \n",
        "import numpy as np \n",
        "import matplotlib.pyplot as plt \n",
        "from tensorflow.keras import datasets , layers , models "
      ],
      "execution_count": 2,
      "outputs": []
    },
    {
      "cell_type": "code",
      "metadata": {
        "id": "0knXKPx5jWoa"
      },
      "source": [
        "(xtrain , ytrain) , (xtest , ytest) = datasets.cifar10.load_data() "
      ],
      "execution_count": null,
      "outputs": []
    },
    {
      "cell_type": "code",
      "metadata": {
        "id": "KC-sy9VMjrkJ"
      },
      "source": [
        "xtrain , xtest = xtrain/255 , xtest/255 "
      ],
      "execution_count": 5,
      "outputs": []
    },
    {
      "cell_type": "code",
      "metadata": {
        "id": "n8yyfzPyj5sJ"
      },
      "source": [
        "class_name = ['Plan','Car','Bird','Cat','Deer','Dog','Frog','Hourse','Ship','Truck']"
      ],
      "execution_count": 6,
      "outputs": []
    },
    {
      "cell_type": "code",
      "metadata": {
        "id": "pzP-XOAuk97Z"
      },
      "source": [
        "for i in range(16):\n",
        "  plt.subplot(4,4,i+1)\n",
        "  plt.xticks([])\n",
        "  plt.yticks([])\n",
        "  plt.imshow(xtest[i] , cmap=plt.cm.binary)\n",
        "  plt.xlabel(class_name[ytrain[i][0]])\n",
        "  plt.rcParams[\"figure.figsize\"] = (20,5)\n",
        "plt.show()"
      ],
      "execution_count": null,
      "outputs": []
    },
    {
      "cell_type": "code",
      "metadata": {
        "id": "a0L87NI4mAvs"
      },
      "source": [
        "model = models.Sequential()\n",
        "model.add(layers.Conv2D(32,(3,3),activation='relu',input_shape=(32,32,3)))\n",
        "model.add(layers.MaxPool2D((2,2)))\n",
        "model.add(layers.Conv2D(64 , (3,3) , activation='relu'))\n",
        "model.add(layers.MaxPool2D((2,2)))\n",
        "model.add(layers.Conv2D(64,(3,3),activation='relu'))\n",
        "model.add(layers.Flatten())\n",
        "model.add(layers.Dense(64, activation='relu'))\n",
        "model.add(layers.Dense(10,activation='softmax'))"
      ],
      "execution_count": 26,
      "outputs": []
    },
    {
      "cell_type": "code",
      "metadata": {
        "colab": {
          "base_uri": "https://localhost:8080/"
        },
        "id": "RZ5hFvmwoldR",
        "outputId": "bb5f63a3-caf3-44a6-e5e2-af8b348742be"
      },
      "source": [
        "model.compile(optimizer='adam' , loss='sparse_categorical_crossentropy' , metrics=['accuracy'] )\n",
        "model.fit(xtrain,ytrain, epochs=10 , validation_data=(xtest , ytest))\n"
      ],
      "execution_count": 27,
      "outputs": [
        {
          "output_type": "stream",
          "name": "stdout",
          "text": [
            "Epoch 1/10\n",
            "1563/1563 [==============================] - 68s 43ms/step - loss: 1.5331 - accuracy: 0.4405 - val_loss: 1.3346 - val_accuracy: 0.5169\n",
            "Epoch 2/10\n",
            "1563/1563 [==============================] - 67s 43ms/step - loss: 1.1762 - accuracy: 0.5819 - val_loss: 1.0921 - val_accuracy: 0.6147\n",
            "Epoch 3/10\n",
            "1563/1563 [==============================] - 67s 43ms/step - loss: 1.0141 - accuracy: 0.6419 - val_loss: 1.0133 - val_accuracy: 0.6444\n",
            "Epoch 4/10\n",
            "1563/1563 [==============================] - 67s 43ms/step - loss: 0.9236 - accuracy: 0.6755 - val_loss: 1.0076 - val_accuracy: 0.6529\n",
            "Epoch 5/10\n",
            "1563/1563 [==============================] - 67s 43ms/step - loss: 0.8552 - accuracy: 0.6985 - val_loss: 0.8939 - val_accuracy: 0.6888\n",
            "Epoch 6/10\n",
            "1563/1563 [==============================] - 68s 43ms/step - loss: 0.7967 - accuracy: 0.7191 - val_loss: 0.9044 - val_accuracy: 0.6883\n",
            "Epoch 7/10\n",
            "1563/1563 [==============================] - 68s 43ms/step - loss: 0.7507 - accuracy: 0.7360 - val_loss: 0.9227 - val_accuracy: 0.6894\n",
            "Epoch 8/10\n",
            "1563/1563 [==============================] - 68s 44ms/step - loss: 0.7116 - accuracy: 0.7512 - val_loss: 0.8577 - val_accuracy: 0.7047\n",
            "Epoch 9/10\n",
            "1563/1563 [==============================] - 68s 43ms/step - loss: 0.6764 - accuracy: 0.7611 - val_loss: 0.8470 - val_accuracy: 0.7109\n",
            "Epoch 10/10\n",
            "1563/1563 [==============================] - 68s 43ms/step - loss: 0.6378 - accuracy: 0.7763 - val_loss: 0.8678 - val_accuracy: 0.7089\n"
          ]
        },
        {
          "output_type": "execute_result",
          "data": {
            "text/plain": [
              "<keras.callbacks.History at 0x7f974a4067d0>"
            ]
          },
          "metadata": {},
          "execution_count": 27
        }
      ]
    },
    {
      "cell_type": "code",
      "metadata": {
        "colab": {
          "base_uri": "https://localhost:8080/"
        },
        "id": "eEK3sTr2tuXc",
        "outputId": "2a137f09-a5c6-4932-eba7-5c08ffb21fd4"
      },
      "source": [
        "model.save('image_calssification.model')\n"
      ],
      "execution_count": 28,
      "outputs": [
        {
          "output_type": "stream",
          "name": "stdout",
          "text": [
            "INFO:tensorflow:Assets written to: image_calssification.model/assets\n"
          ]
        }
      ]
    },
    {
      "cell_type": "code",
      "metadata": {
        "id": "KjEXCvSzu0tT"
      },
      "source": [
        "model = models.load_model('image_calssification.model')"
      ],
      "execution_count": 31,
      "outputs": []
    },
    {
      "cell_type": "code",
      "metadata": {
        "id": "cBHtwjc5vWdf"
      },
      "source": [
        "img = cv.imread('')\n",
        "imgre = cv.resize(img,(32,32))\n",
        "imgre = cv.cvtColor(imgre, cv.COLOR_RGB2BGR)\n",
        "img = cv.cvtColor(img, cv.COLOR_RGB2BGR)\n",
        "\n",
        "predict = model.predict(np.array([imgre])/255)\n",
        "index = np.argmax(predict)\n",
        "classname = class_name[index]\n",
        "\n",
        "cv.putText(img, f'{classname}', (20, 30), cv.FONT_HERSHEY_PLAIN, 2, (0,0,255),2)\n",
        "plt.imshow(img)"
      ],
      "execution_count": null,
      "outputs": []
    },
    {
      "cell_type": "code",
      "metadata": {
        "id": "i-QMCRjax4na"
      },
      "source": [
        ""
      ],
      "execution_count": null,
      "outputs": []
    }
  ]
}