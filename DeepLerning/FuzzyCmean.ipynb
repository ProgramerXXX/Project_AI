{
 "cells": [
  {
   "cell_type": "code",
   "execution_count": 1,
   "source": [
    "from sklearn.datasets import make_blobs\r\n",
    "import numpy as np \r\n",
    "import matplotlib.pyplot as plt \r\n",
    "from fcmeans import FCM"
   ],
   "outputs": [],
   "metadata": {}
  },
  {
   "cell_type": "code",
   "execution_count": 2,
   "source": [
    "X,y = make_blobs(n_samples=100,centers=3,cluster_std=0.8,random_state=0)"
   ],
   "outputs": [],
   "metadata": {}
  },
  {
   "cell_type": "code",
   "execution_count": null,
   "source": [
    "plt.scatter(X[:,0],X[:,1])\r\n",
    "plt.show"
   ],
   "outputs": [],
   "metadata": {}
  },
  {
   "cell_type": "code",
   "execution_count": 4,
   "source": [
    "from sklearn.cluster import KMeans "
   ],
   "outputs": [],
   "metadata": {}
  },
  {
   "cell_type": "code",
   "execution_count": null,
   "source": [
    "kmean = KMeans(n_clusters=3)\r\n",
    "kmean.fit(X)\r\n",
    "y_kmean = kmean.predict(X)\r\n",
    "plt.scatter(X[:,0],X[:,1],c=y,cmap='plasma')\r\n"
   ],
   "outputs": [],
   "metadata": {}
  },
  {
   "cell_type": "code",
   "execution_count": null,
   "source": [
    "kmean_center = kmean.cluster_centers_\r\n",
    "plt.scatter(X[:,0],X[:,1],c=y_kmean,cmap='plasma')\r\n",
    "plt.scatter(kmean_center[:,0],kmean_center[:,1],c='r',marker='*')"
   ],
   "outputs": [],
   "metadata": {}
  },
  {
   "cell_type": "markdown",
   "source": [
    "FuzzY C Means"
   ],
   "metadata": {}
  },
  {
   "cell_type": "code",
   "execution_count": null,
   "source": [
    "fcm = FCM(n_cluster=3)\r\n",
    "fcm.fit(X)\r\n",
    "y_fcm = fcm.predict(X)\r\n",
    "fcm_center = fcm.centers\r\n",
    "U = fcm.u\r\n",
    "plt.scatter(X[:,0],X[:,1],c=y_fcm,cmap='plasma')\r\n",
    "plt.scatter(fcm_center[:,0],fcm_center[:,1],c='green',marker='v')"
   ],
   "outputs": [],
   "metadata": {}
  },
  {
   "cell_type": "markdown",
   "source": [],
   "metadata": {}
  }
 ],
 "metadata": {
  "orig_nbformat": 4,
  "language_info": {
   "name": "python",
   "version": "3.8.10",
   "mimetype": "text/x-python",
   "codemirror_mode": {
    "name": "ipython",
    "version": 3
   },
   "pygments_lexer": "ipython3",
   "nbconvert_exporter": "python",
   "file_extension": ".py"
  },
  "kernelspec": {
   "name": "python3",
   "display_name": "Python 3.8.10 64-bit (windows store)"
  },
  "interpreter": {
   "hash": "fbcb173fc87e39082b7a27eb521fb255480c0c279ccf10098ae0d92ed2e9a883"
  }
 },
 "nbformat": 4,
 "nbformat_minor": 2
}