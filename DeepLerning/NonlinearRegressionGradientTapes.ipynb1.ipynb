{
  "nbformat": 4,
  "nbformat_minor": 0,
  "metadata": {
    "interpreter": {
      "hash": "fbcb173fc87e39082b7a27eb521fb255480c0c279ccf10098ae0d92ed2e9a883"
    },
    "kernelspec": {
      "display_name": "Python 3.8.10 64-bit (windows store)",
      "name": "python3"
    },
    "language_info": {
      "codemirror_mode": {
        "name": "ipython",
        "version": 3
      },
      "file_extension": ".py",
      "mimetype": "text/x-python",
      "name": "python",
      "nbconvert_exporter": "python",
      "pygments_lexer": "ipython3",
      "version": "3.8.10"
    },
    "orig_nbformat": 4,
    "colab": {
      "name": "NonlinearRegressionGradientTapes.ipynb",
      "provenance": []
    },
    "accelerator": "GPU"
  },
  "cells": [
    {
      "cell_type": "code",
      "metadata": {
        "id": "ZPATyMi_DURz"
      },
      "source": [
        "import tensorflow as tf \n",
        "import numpy as np \n",
        "import matplotlib.pyplot as plt "
      ],
      "execution_count": 24,
      "outputs": []
    },
    {
      "cell_type": "code",
      "metadata": {
        "id": "-8gQ6K5oDUR_"
      },
      "source": [
        "xx = tf.Variable([1,2,3]) \n",
        "yy =tf.Variable([2,3,4]) \n",
        "ww  = xx+yy\n",
        "ww.numpy()"
      ],
      "execution_count": null,
      "outputs": []
    },
    {
      "cell_type": "code",
      "metadata": {
        "id": "koMQEL6qOP4l"
      },
      "source": [
        "N = 100 \n",
        "X = np.random.rand(N,1)\n",
        "Y = np.sin(2 * np.pi * X) + 0.4 * np.random.rand(N,1)\n",
        "plt.plot(X,Y,'.')\n",
        "plt.show()\n"
      ],
      "execution_count": null,
      "outputs": []
    },
    {
      "cell_type": "markdown",
      "metadata": {
        "id": "A55avTkePoSE"
      },
      "source": [
        "1-W1-100-W2-100-W3-1"
      ]
    },
    {
      "cell_type": "code",
      "metadata": {
        "id": "j11Z0wrLO_IE"
      },
      "source": [
        "W1 = tf.Variable(np.random.randn(1,100))\n",
        "b1 = tf.Variable(np.random.randn(100))\n",
        "W2 = tf.Variable(np.random.randn(100,100))\n",
        "b2 = tf.Variable(np.random.randn(100))\n",
        "W3 = tf.Variable(np.random.randn(100,1))\n",
        "b3 = tf.Variable(np.random.randn(1))\n",
        "\n",
        "def relu(x):\n",
        "  return tf.where(x>=0,x,0)\n",
        "\n",
        "lr = 0.0001\n",
        "for epoch in range(5000):\n",
        "  with tf.GradientTape() as t:\n",
        "    y = relu(X @ W1 + b1)\n",
        "    y = relu(y @ W2 + b2)\n",
        "    y = y @ W3 + b3\n",
        "    loss = tf.reduce_mean((y-Y)**2)\n",
        "  dw1,db1,dw2,db2,dw3,db3 = t.gradient(loss,[W1,b1,W2,b2,W3,b3])\n",
        "  W1.assign_sub(lr * dw1)\n",
        "  b1.assign_sub(lr * db1)\n",
        "  W2.assign_sub(lr * dw2)\n",
        "  b2.assign_sub(lr * db2)\n",
        "  W3.assign_sub(lr * dw3)\n",
        "  b3.assign_sub(lr * db3)\n",
        "  if epoch % 1000 == 0:\n",
        "    print(loss.numpy())\n"
      ],
      "execution_count": null,
      "outputs": []
    },
    {
      "cell_type": "code",
      "metadata": {
        "colab": {
          "base_uri": "https://localhost:8080/",
          "height": 265
        },
        "id": "BnbIxdtuVXkq",
        "outputId": "256afd12-0425-4db1-f5ca-3539f78ac08d"
      },
      "source": [
        "Z = relu(X@W1 + b1)\n",
        "Z = relu(Z@W2 + b2)\n",
        "Z = Z@W3 + b3 \n",
        "plt.plot(X,Z,'.r')\n",
        "plt.plot(X,Y,'.')\n",
        "plt.show() "
      ],
      "execution_count": 41,
      "outputs": [
        {
          "output_type": "display_data",
          "data": {
            "image/png": "[encoded data removed]",
            "text/plain": [
              "<Figure size 432x288 with 1 Axes>"
            ]
          },
          "metadata": {
            "needs_background": "light"
          }
        }
      ]
    },
    {
      "cell_type": "code",
      "metadata": {
        "id": "CYYxmw4dVxtS"
      },
      "source": [
        ""
      ],
      "execution_count": null,
      "outputs": []
    }
  ]
}