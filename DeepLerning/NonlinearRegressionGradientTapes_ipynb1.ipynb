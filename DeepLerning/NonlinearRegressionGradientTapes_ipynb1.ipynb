{
  "nbformat": 4,
  "nbformat_minor": 0,
  "metadata": {
    "interpreter": {
      "hash": "fbcb173fc87e39082b7a27eb521fb255480c0c279ccf10098ae0d92ed2e9a883"
    },
    "kernelspec": {
      "display_name": "Python 3.8.10 64-bit (windows store)",
      "name": "python3"
    },
    "language_info": {
      "codemirror_mode": {
        "name": "ipython",
        "version": 3
      },
      "file_extension": ".py",
      "mimetype": "text/x-python",
      "name": "python",
      "nbconvert_exporter": "python",
      "pygments_lexer": "ipython3",
      "version": "3.8.10"
    },
    "orig_nbformat": 4,
    "colab": {
      "name": "NonlinearRegressionGradientTapes.ipynb1.ipynb",
      "provenance": []
    },
    "accelerator": "GPU"
  },
  "cells": [
    {
      "cell_type": "code",
      "metadata": {
        "id": "ZPATyMi_DURz"
      },
      "source": [
        "import tensorflow as tf \n",
        "import numpy as np \n",
        "import matplotlib.pyplot as plt "
      ],
      "execution_count": 17,
      "outputs": []
    },
    {
      "cell_type": "code",
      "metadata": {
        "id": "-8gQ6K5oDUR_",
        "colab": {
          "base_uri": "https://localhost:8080/"
        },
        "outputId": "5df238d2-ab46-498b-fbb6-0b9fc223285b"
      },
      "source": [
        "xx = tf.Variable([1,2,3]) \n",
        "yy =tf.Variable([2,3,4]) \n",
        "ww  = xx+yy\n",
        "ww.numpy()"
      ],
      "execution_count": 18,
      "outputs": [
        {
          "output_type": "execute_result",
          "data": {
            "text/plain": [
              "array([3, 5, 7], dtype=int32)"
            ]
          },
          "metadata": {},
          "execution_count": 18
        }
      ]
    },
    {
      "cell_type": "code",
      "metadata": {
        "id": "koMQEL6qOP4l",
        "colab": {
          "base_uri": "https://localhost:8080/",
          "height": 265
        },
        "outputId": "80329799-b2a1-4124-87b5-a2cba541b799"
      },
      "source": [
        "N = 100 \n",
        "X = np.random.rand(N,1)\n",
        "Y = np.sin(2 * np.pi * X) + 0.4 * np.random.rand(N,1)\n",
        "plt.plot(X,Y,'.')\n",
        "plt.show()\n"
      ],
      "execution_count": 19,
      "outputs": [
        {
          "output_type": "display_data",
          "data": {
            "image/png": "[encoded data removed]",
            "text/plain": [
              "<Figure size 432x288 with 1 Axes>"
            ]
          },
          "metadata": {
            "needs_background": "light"
          }
        }
      ]
    },
    {
      "cell_type": "markdown",
      "metadata": {
        "id": "A55avTkePoSE"
      },
      "source": [
        "1-W1-100-W2-100-W3-1"
      ]
    },
    {
      "cell_type": "code",
      "metadata": {
        "id": "j11Z0wrLO_IE",
        "colab": {
          "base_uri": "https://localhost:8080/"
        },
        "outputId": "78e93d85-e5e1-4a60-bc03-4f53629b6fb1"
      },
      "source": [
        "W1 = tf.Variable(np.random.randn(1,100))\n",
        "b1 = tf.Variable(np.random.randn(100))\n",
        "W2 = tf.Variable(np.random.randn(100,100))\n",
        "b2 = tf.Variable(np.random.randn(100))\n",
        "W3 = tf.Variable(np.random.randn(100,1))\n",
        "b3 = tf.Variable(np.random.randn(1))\n",
        "\n",
        "def relu(x):\n",
        "  return tf.where(x>=0,x,0)\n",
        "\n",
        "lr = 0.0001\n",
        "for epoch in range(5000):\n",
        "  with tf.GradientTape() as t:\n",
        "    y = relu(X @ W1 + b1)\n",
        "    y = relu(y @ W2 + b2)\n",
        "    y = y @ W3 + b3\n",
        "    loss = tf.reduce_mean((y-Y)**2)\n",
        "  dw1,db1,dw2,db2,dw3,db3 = t.gradient(loss,[W1,b1,W2,b2,W3,b3])\n",
        "  W1.assign_sub(lr * dw1)\n",
        "  b1.assign_sub(lr * db1)\n",
        "  W2.assign_sub(lr * dw2)\n",
        "  b2.assign_sub(lr * db2)\n",
        "  W3.assign_sub(lr * dw3)\n",
        "  b3.assign_sub(lr * db3)\n",
        "  if epoch % 1000 == 0:\n",
        "    print(loss.numpy())\n"
      ],
      "execution_count": 20,
      "outputs": [
        {
          "output_type": "stream",
          "name": "stdout",
          "text": [
            "800.021955416691\n",
            "0.04045312606387231\n",
            "0.02574036704643641\n",
            "0.020229739331946786\n",
            "0.017651757272043305\n"
          ]
        }
      ]
    },
    {
      "cell_type": "code",
      "metadata": {
        "colab": {
          "base_uri": "https://localhost:8080/",
          "height": 265
        },
        "id": "BnbIxdtuVXkq",
        "outputId": "87bd8acf-d764-4441-f288-f74cb6bbeb80"
      },
      "source": [
        "Z = relu(X@W1 + b1)\n",
        "Z = relu(Z@W2 + b2)\n",
        "Z = Z@W3 + b3 \n",
        "plt.plot(X,Z,'.r')\n",
        "plt.plot(X,Y,'.')\n",
        "plt.show() "
      ],
      "execution_count": 21,
      "outputs": [
        {
          "output_type": "display_data",
          "data": {
            "image/png": "[encoded data removed]",
            "text/plain": [
              "<Figure size 432x288 with 1 Axes>"
            ]
          },
          "metadata": {
            "needs_background": "light"
          }
        }
      ]
    },
    {
      "cell_type": "markdown",
      "metadata": {
        "id": "ZR1GlhTnqvF6"
      },
      "source": [
        "Class Model"
      ]
    },
    {
      "cell_type": "code",
      "metadata": {
        "id": "CYYxmw4dVxtS"
      },
      "source": [
        "def relu(x):\n",
        "  return tf.where(x>=0,x,0)\n",
        "\n",
        "class MLP():\n",
        "  def __init__(self,neurons=[1,100,100,1] , activation = [relu,relu,None]):\n",
        "    self.W = []\n",
        "    self.activation = activation\n",
        "    for i in range(1 , len(neurons)):\n",
        "      self.W.append(tf.Variable(np.random.randn(neurons[i-1],neurons[i])))\n",
        "      self.W.append(tf.Variable(np.random.randn(neurons[i])))\n",
        "\n",
        "  def __call__(self , x):\n",
        "    for i in range(0 , len(self.W) ,2):\n",
        "     x = x @ self.W[i] + self.W[i+1]\n",
        "     if self.activation[i // 2] is not None:\n",
        "       x = self.activation[i // 2](x)\n",
        "    return x\n",
        "\n",
        "  def fit(self, x, y, lr=0.001, epochs = 2000):\n",
        "    for epoch in range(epochs):\n",
        "      with tf.GradientTape() as t:\n",
        "        loss = tf.reduce_mean((self(X) - Y) **2 )\n",
        "      dw = t.gradient(loss, self.W) \n",
        "      for i , W in enumerate(self.W):\n",
        "        W.assign_sub(lr*dw[i])\n",
        "      if epoch % 1000 == 0 :\n",
        "       print(epoch+100 , loss.numpy())"
      ],
      "execution_count": 38,
      "outputs": []
    },
    {
      "cell_type": "code",
      "metadata": {
        "colab": {
          "base_uri": "https://localhost:8080/"
        },
        "id": "uLCG1lXfwmqt",
        "outputId": "332f2a1f-478f-4088-ec56-d4d69e01a1d5"
      },
      "source": [
        "lr = 0.0001 \n",
        "model  = MLP()\n",
        "model.fit(X,Y,lr,7000)\n"
      ],
      "execution_count": 36,
      "outputs": [
        {
          "output_type": "stream",
          "name": "stdout",
          "text": [
            "0 93.66850115980286\n",
            "1000 0.031073815217570057\n",
            "2000 0.02108905704396987\n",
            "3000 0.016768404144645633\n",
            "4000 0.015492554445100913\n",
            "5000 0.014812993160912707\n",
            "6000 0.014407441158748743\n"
          ]
        }
      ]
    },
    {
      "cell_type": "code",
      "metadata": {
        "colab": {
          "base_uri": "https://localhost:8080/",
          "height": 265
        },
        "id": "-dvBAYYX6LEl",
        "outputId": "d1611bed-9c96-444a-d454-fcc6ec0931ab"
      },
      "source": [
        "Z = model(X)\n",
        "plt.plot(X,Z,'.r')\n",
        "plt.plot(X,Y,'.')\n",
        "plt.show() "
      ],
      "execution_count": 37,
      "outputs": [
        {
          "output_type": "display_data",
          "data": {
            "image/png": "[encoded data removed]",
            "text/plain": [
              "<Figure size 432x288 with 1 Axes>"
            ]
          },
          "metadata": {
            "needs_background": "light"
          }
        }
      ]
    },
    {
      "cell_type": "code",
      "metadata": {
        "id": "b9LGZ7M16k5c"
      },
      "source": [
        "import  pandas as pd \n",
        "\n",
        "df = pd.read_csv('https://archive.ics.uci.edu/ml/machine-learning-databases/iris/iris.data',header=None)"
      ],
      "execution_count": 42,
      "outputs": []
    },
    {
      "cell_type": "code",
      "metadata": {
        "colab": {
          "base_uri": "https://localhost:8080/",
          "height": 417
        },
        "id": "nN2K8Jut9-B0",
        "outputId": "4edf7f02-4699-49e3-841c-01a8b8a7754a"
      },
      "source": [
        "df"
      ],
      "execution_count": 43,
      "outputs": [
        {
          "output_type": "execute_result",
          "data": {
            "text/html": [
              "<div>\n",
              "<style scoped>\n",
              "    .dataframe tbody tr th:only-of-type {\n",
              "        vertical-align: middle;\n",
              "    }\n",
              "\n",
              "    .dataframe tbody tr th {\n",
              "        vertical-align: top;\n",
              "    }\n",
              "\n",
              "    .dataframe thead th {\n",
              "        text-align: right;\n",
              "    }\n",
              "</style>\n",
              "<table border=\"1\" class=\"dataframe\">\n",
              "  <thead>\n",
              "    <tr style=\"text-align: right;\">\n",
              "      <th></th>\n",
              "      <th>0</th>\n",
              "      <th>1</th>\n",
              "      <th>2</th>\n",
              "      <th>3</th>\n",
              "      <th>4</th>\n",
              "    </tr>\n",
              "  </thead>\n",
              "  <tbody>\n",
              "    <tr>\n",
              "      <th>0</th>\n",
              "      <td>5.1</td>\n",
              "      <td>3.5</td>\n",
              "      <td>1.4</td>\n",
              "      <td>0.2</td>\n",
              "      <td>Iris-setosa</td>\n",
              "    </tr>\n",
              "    <tr>\n",
              "      <th>1</th>\n",
              "      <td>4.9</td>\n",
              "      <td>3.0</td>\n",
              "      <td>1.4</td>\n",
              "      <td>0.2</td>\n",
              "      <td>Iris-setosa</td>\n",
              "    </tr>\n",
              "    <tr>\n",
              "      <th>2</th>\n",
              "      <td>4.7</td>\n",
              "      <td>3.2</td>\n",
              "      <td>1.3</td>\n",
              "      <td>0.2</td>\n",
              "      <td>Iris-setosa</td>\n",
              "    </tr>\n",
              "    <tr>\n",
              "      <th>3</th>\n",
              "      <td>4.6</td>\n",
              "      <td>3.1</td>\n",
              "      <td>1.5</td>\n",
              "      <td>0.2</td>\n",
              "      <td>Iris-setosa</td>\n",
              "    </tr>\n",
              "    <tr>\n",
              "      <th>4</th>\n",
              "      <td>5.0</td>\n",
              "      <td>3.6</td>\n",
              "      <td>1.4</td>\n",
              "      <td>0.2</td>\n",
              "      <td>Iris-setosa</td>\n",
              "    </tr>\n",
              "    <tr>\n",
              "      <th>...</th>\n",
              "      <td>...</td>\n",
              "      <td>...</td>\n",
              "      <td>...</td>\n",
              "      <td>...</td>\n",
              "      <td>...</td>\n",
              "    </tr>\n",
              "    <tr>\n",
              "      <th>145</th>\n",
              "      <td>6.7</td>\n",
              "      <td>3.0</td>\n",
              "      <td>5.2</td>\n",
              "      <td>2.3</td>\n",
              "      <td>Iris-virginica</td>\n",
              "    </tr>\n",
              "    <tr>\n",
              "      <th>146</th>\n",
              "      <td>6.3</td>\n",
              "      <td>2.5</td>\n",
              "      <td>5.0</td>\n",
              "      <td>1.9</td>\n",
              "      <td>Iris-virginica</td>\n",
              "    </tr>\n",
              "    <tr>\n",
              "      <th>147</th>\n",
              "      <td>6.5</td>\n",
              "      <td>3.0</td>\n",
              "      <td>5.2</td>\n",
              "      <td>2.0</td>\n",
              "      <td>Iris-virginica</td>\n",
              "    </tr>\n",
              "    <tr>\n",
              "      <th>148</th>\n",
              "      <td>6.2</td>\n",
              "      <td>3.4</td>\n",
              "      <td>5.4</td>\n",
              "      <td>2.3</td>\n",
              "      <td>Iris-virginica</td>\n",
              "    </tr>\n",
              "    <tr>\n",
              "      <th>149</th>\n",
              "      <td>5.9</td>\n",
              "      <td>3.0</td>\n",
              "      <td>5.1</td>\n",
              "      <td>1.8</td>\n",
              "      <td>Iris-virginica</td>\n",
              "    </tr>\n",
              "  </tbody>\n",
              "</table>\n",
              "<p>150 rows × 5 columns</p>\n",
              "</div>"
            ],
            "text/plain": [
              "       0    1    2    3               4\n",
              "0    5.1  3.5  1.4  0.2     Iris-setosa\n",
              "1    4.9  3.0  1.4  0.2     Iris-setosa\n",
              "2    4.7  3.2  1.3  0.2     Iris-setosa\n",
              "3    4.6  3.1  1.5  0.2     Iris-setosa\n",
              "4    5.0  3.6  1.4  0.2     Iris-setosa\n",
              "..   ...  ...  ...  ...             ...\n",
              "145  6.7  3.0  5.2  2.3  Iris-virginica\n",
              "146  6.3  2.5  5.0  1.9  Iris-virginica\n",
              "147  6.5  3.0  5.2  2.0  Iris-virginica\n",
              "148  6.2  3.4  5.4  2.3  Iris-virginica\n",
              "149  5.9  3.0  5.1  1.8  Iris-virginica\n",
              "\n",
              "[150 rows x 5 columns]"
            ]
          },
          "metadata": {},
          "execution_count": 43
        }
      ]
    },
    {
      "cell_type": "code",
      "metadata": {
        "id": "6-_2Y7Pn-FIy"
      },
      "source": [
        "itrain = []\n",
        "itest = []\n",
        "x = df.iloc[:,:4].values\n",
        "l = df.iloc[:,:-1].values\n",
        "classes = np.unique(l) \n",
        "split = 0.5\n",
        "y = []\n",
        "\n"
      ],
      "execution_count": null,
      "outputs": []
    },
    {
      "cell_type": "code",
      "metadata": {
        "id": "7Z9SVhoJAX1T"
      },
      "source": [
        ""
      ],
      "execution_count": null,
      "outputs": []
    }
  ]
}