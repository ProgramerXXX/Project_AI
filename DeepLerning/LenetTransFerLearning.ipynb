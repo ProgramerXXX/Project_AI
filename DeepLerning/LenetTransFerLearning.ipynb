{
  "nbformat": 4,
  "nbformat_minor": 0,
  "metadata": {
    "accelerator": "GPU",
    "colab": {
      "name": "Lenet.ipynb",
      "provenance": []
    },
    "kernelspec": {
      "display_name": "Python 3",
      "name": "python3"
    },
    "language_info": {
      "name": "python"
    }
  },
  "cells": [
    {
      "cell_type": "markdown",
      "metadata": {
        "id": "n-A2vL4X7u0m"
      },
      "source": [
        "Import Libary For Training Model"
      ]
    },
    {
      "cell_type": "code",
      "metadata": {
        "id": "up7bnYT67DBk"
      },
      "source": [
        "import tensorflow as tf\n",
        "import numpy as np \n",
        "import matplotlib.pyplot as plt "
      ],
      "execution_count": 1,
      "outputs": []
    },
    {
      "cell_type": "markdown",
      "metadata": {
        "id": "SraSWry5756o"
      },
      "source": [
        "Load Dataset Mnist"
      ]
    },
    {
      "cell_type": "code",
      "metadata": {
        "id": "2GJjAy027c92",
        "colab": {
          "base_uri": "https://localhost:8080/"
        },
        "outputId": "8f3aeb9e-a6ed-4eed-9a8c-95c926d98a6e"
      },
      "source": [
        "(Xtrain , Ytrain) , (Xtest , Ytest) = tf.keras.datasets.mnist.load_data()"
      ],
      "execution_count": 2,
      "outputs": [
        {
          "output_type": "stream",
          "name": "stdout",
          "text": [
            "Downloading data from https://storage.googleapis.com/tensorflow/tf-keras-datasets/mnist.npz\n",
            "11493376/11490434 [==============================] - 0s 0us/step\n",
            "11501568/11490434 [==============================] - 0s 0us/step\n"
          ]
        }
      ]
    },
    {
      "cell_type": "markdown",
      "metadata": {
        "id": "jZr5B-md8AlN"
      },
      "source": [
        "Change 3D to 4D and change int to float "
      ]
    },
    {
      "cell_type": "code",
      "metadata": {
        "id": "gxorivR3798K"
      },
      "source": [
        "Xtrain  = Xtrain[:,:,:,None] / 255.\n",
        "Xtest = Xtest[:,:,:,None] /255."
      ],
      "execution_count": 3,
      "outputs": []
    },
    {
      "cell_type": "markdown",
      "metadata": {
        "id": "TwutOv2Z8f_d"
      },
      "source": [
        "Resize Image For Training in Letnet\n"
      ]
    },
    {
      "cell_type": "code",
      "metadata": {
        "id": "qMZ7eiyi8mvh"
      },
      "source": [
        "Xtrain = tf.image.resize(Xtrain, (32,32))\n",
        "Xtest = tf.image.resize(Xtest , (32,32))"
      ],
      "execution_count": 4,
      "outputs": []
    },
    {
      "cell_type": "code",
      "metadata": {
        "id": "mAHwc3QF8zKz",
        "colab": {
          "base_uri": "https://localhost:8080/"
        },
        "outputId": "a4b5070d-2b3b-4f51-8ec9-4b3c6501fc8d"
      },
      "source": [
        "Xtrain.shape"
      ],
      "execution_count": 5,
      "outputs": [
        {
          "output_type": "execute_result",
          "data": {
            "text/plain": [
              "TensorShape([60000, 32, 32, 1])"
            ]
          },
          "metadata": {},
          "execution_count": 5
        }
      ]
    },
    {
      "cell_type": "markdown",
      "metadata": {
        "id": "FV2LE8j_9hXN"
      },
      "source": [
        "Generate Lenet5 "
      ]
    },
    {
      "cell_type": "code",
      "metadata": {
        "id": "_0Y_9QHz9M69"
      },
      "source": [
        "from tensorflow import keras\n",
        "\n",
        "model = keras.Sequential()\n",
        "model.add(keras.layers.Conv2D(6 , (5,5) , input_shape=(32,32,1) , activation='relu' ))\n",
        "model.add(keras.layers.MaxPool2D())\n",
        "model.add(keras.layers.Conv2D(16,(5,5),activation='relu'))\n",
        "model.add(keras.layers.MaxPool2D())\n",
        "model.add(keras.layers.Flatten())\n",
        "model.add(keras.layers.Dense(120,activation='relu'))\n",
        "model.add(keras.layers.Dense(84,activation='relu'))\n",
        "model.add(keras.layers.Dense(10, activation='softmax'))\n",
        "model.compile(loss='sparse_categorical_crossentropy', optimizer='sgd')\n"
      ],
      "execution_count": 6,
      "outputs": []
    },
    {
      "cell_type": "markdown",
      "metadata": {
        "id": "ysRAnqVlAKMt"
      },
      "source": [
        "Check Network"
      ]
    },
    {
      "cell_type": "code",
      "metadata": {
        "id": "VvNsBM4C9wpN",
        "colab": {
          "base_uri": "https://localhost:8080/"
        },
        "outputId": "18fe9093-1a9a-4e29-8ac0-53794a010059"
      },
      "source": [
        "model.summary()"
      ],
      "execution_count": 7,
      "outputs": [
        {
          "output_type": "stream",
          "name": "stdout",
          "text": [
            "Model: \"sequential\"\n",
            "_________________________________________________________________\n",
            "Layer (type)                 Output Shape              Param #   \n",
            "=================================================================\n",
            "conv2d (Conv2D)              (None, 28, 28, 6)         156       \n",
            "_________________________________________________________________\n",
            "max_pooling2d (MaxPooling2D) (None, 14, 14, 6)         0         \n",
            "_________________________________________________________________\n",
            "conv2d_1 (Conv2D)            (None, 10, 10, 16)        2416      \n",
            "_________________________________________________________________\n",
            "max_pooling2d_1 (MaxPooling2 (None, 5, 5, 16)          0         \n",
            "_________________________________________________________________\n",
            "flatten (Flatten)            (None, 400)               0         \n",
            "_________________________________________________________________\n",
            "dense (Dense)                (None, 120)               48120     \n",
            "_________________________________________________________________\n",
            "dense_1 (Dense)              (None, 84)                10164     \n",
            "_________________________________________________________________\n",
            "dense_2 (Dense)              (None, 10)                850       \n",
            "=================================================================\n",
            "Total params: 61,706\n",
            "Trainable params: 61,706\n",
            "Non-trainable params: 0\n",
            "_________________________________________________________________\n"
          ]
        }
      ]
    },
    {
      "cell_type": "markdown",
      "metadata": {
        "id": "c4wEWrMHAPUE"
      },
      "source": [
        "Plot Network"
      ]
    },
    {
      "cell_type": "code",
      "metadata": {
        "id": "X0WWCVujAIwm",
        "colab": {
          "base_uri": "https://localhost:8080/",
          "height": 976
        },
        "outputId": "ee0e75e5-a08f-4240-a595-26e3f1936b0c"
      },
      "source": [
        "keras.utils.plot_model(model,show_shapes=True)"
      ],
      "execution_count": 8,
      "outputs": [
        {
          "output_type": "execute_result",
          "data": {
            "image/png": "[encoded data removed]",
            "text/plain": [
              "<IPython.core.display.Image object>"
            ]
          },
          "metadata": {},
          "execution_count": 8
        }
      ]
    },
    {
      "cell_type": "markdown",
      "metadata": {
        "id": "yxDxeVYlAu4N"
      },
      "source": [
        "Train Model"
      ]
    },
    {
      "cell_type": "code",
      "metadata": {
        "colab": {
          "base_uri": "https://localhost:8080/"
        },
        "id": "ZLYVm_6wAZ-t",
        "outputId": "c55336d7-e79c-46ed-a5bd-e880e84dd811"
      },
      "source": [
        "model.fit(Xtrain,Ytrain,epochs=50)"
      ],
      "execution_count": 9,
      "outputs": [
        {
          "output_type": "stream",
          "name": "stdout",
          "text": [
            "Epoch 1/50\n",
            "1875/1875 [==============================] - 36s 3ms/step - loss: 0.4942\n",
            "Epoch 2/50\n",
            "1875/1875 [==============================] - 6s 3ms/step - loss: 0.1261\n",
            "Epoch 3/50\n",
            "1875/1875 [==============================] - 6s 3ms/step - loss: 0.0906\n",
            "Epoch 4/50\n",
            "1875/1875 [==============================] - 6s 3ms/step - loss: 0.0728\n",
            "Epoch 5/50\n",
            "1875/1875 [==============================] - 6s 3ms/step - loss: 0.0626\n",
            "Epoch 6/50\n",
            "1875/1875 [==============================] - 6s 3ms/step - loss: 0.0544\n",
            "Epoch 7/50\n",
            "1875/1875 [==============================] - 6s 3ms/step - loss: 0.0495\n",
            "Epoch 8/50\n",
            "1875/1875 [==============================] - 6s 3ms/step - loss: 0.0443\n",
            "Epoch 9/50\n",
            "1875/1875 [==============================] - 6s 3ms/step - loss: 0.0401\n",
            "Epoch 10/50\n",
            "1875/1875 [==============================] - 6s 3ms/step - loss: 0.0365\n",
            "Epoch 11/50\n",
            "1875/1875 [==============================] - 6s 3ms/step - loss: 0.0338\n",
            "Epoch 12/50\n",
            "1875/1875 [==============================] - 7s 3ms/step - loss: 0.0310\n",
            "Epoch 13/50\n",
            "1875/1875 [==============================] - 6s 3ms/step - loss: 0.0284\n",
            "Epoch 14/50\n",
            "1875/1875 [==============================] - 6s 3ms/step - loss: 0.0268\n",
            "Epoch 15/50\n",
            "1875/1875 [==============================] - 6s 3ms/step - loss: 0.0247\n",
            "Epoch 16/50\n",
            "1875/1875 [==============================] - 6s 3ms/step - loss: 0.0225\n",
            "Epoch 17/50\n",
            "1875/1875 [==============================] - 6s 3ms/step - loss: 0.0209\n",
            "Epoch 18/50\n",
            "1875/1875 [==============================] - 6s 3ms/step - loss: 0.0196\n",
            "Epoch 19/50\n",
            "1875/1875 [==============================] - 6s 3ms/step - loss: 0.0186\n",
            "Epoch 20/50\n",
            "1875/1875 [==============================] - 6s 3ms/step - loss: 0.0171\n",
            "Epoch 21/50\n",
            "1875/1875 [==============================] - 6s 3ms/step - loss: 0.0158\n",
            "Epoch 22/50\n",
            "1875/1875 [==============================] - 6s 3ms/step - loss: 0.0150\n",
            "Epoch 23/50\n",
            "1875/1875 [==============================] - 6s 3ms/step - loss: 0.0144\n",
            "Epoch 24/50\n",
            "1875/1875 [==============================] - 6s 3ms/step - loss: 0.0130\n",
            "Epoch 25/50\n",
            "1875/1875 [==============================] - 6s 3ms/step - loss: 0.0117\n",
            "Epoch 26/50\n",
            "1875/1875 [==============================] - 6s 3ms/step - loss: 0.0115\n",
            "Epoch 27/50\n",
            "1875/1875 [==============================] - 6s 3ms/step - loss: 0.0101\n",
            "Epoch 28/50\n",
            "1875/1875 [==============================] - 6s 3ms/step - loss: 0.0100\n",
            "Epoch 29/50\n",
            "1875/1875 [==============================] - 6s 3ms/step - loss: 0.0092\n",
            "Epoch 30/50\n",
            "1875/1875 [==============================] - 6s 3ms/step - loss: 0.0081\n",
            "Epoch 31/50\n",
            "1875/1875 [==============================] - 6s 3ms/step - loss: 0.0080\n",
            "Epoch 32/50\n",
            "1875/1875 [==============================] - 6s 3ms/step - loss: 0.0067\n",
            "Epoch 33/50\n",
            "1875/1875 [==============================] - 6s 3ms/step - loss: 0.0067\n",
            "Epoch 34/50\n",
            "1875/1875 [==============================] - 6s 3ms/step - loss: 0.0057\n",
            "Epoch 35/50\n",
            "1875/1875 [==============================] - 6s 3ms/step - loss: 0.0057\n",
            "Epoch 36/50\n",
            "1875/1875 [==============================] - 6s 3ms/step - loss: 0.0053\n",
            "Epoch 37/50\n",
            "1875/1875 [==============================] - 6s 3ms/step - loss: 0.0046\n",
            "Epoch 38/50\n",
            "1875/1875 [==============================] - 6s 3ms/step - loss: 0.0043\n",
            "Epoch 39/50\n",
            "1875/1875 [==============================] - 6s 3ms/step - loss: 0.0048\n",
            "Epoch 40/50\n",
            "1875/1875 [==============================] - 6s 3ms/step - loss: 0.0044\n",
            "Epoch 41/50\n",
            "1875/1875 [==============================] - 6s 3ms/step - loss: 0.0039\n",
            "Epoch 42/50\n",
            "1875/1875 [==============================] - 6s 3ms/step - loss: 0.0030\n",
            "Epoch 43/50\n",
            "1875/1875 [==============================] - 6s 3ms/step - loss: 0.0035\n",
            "Epoch 44/50\n",
            "1875/1875 [==============================] - 6s 3ms/step - loss: 0.0030\n",
            "Epoch 45/50\n",
            "1875/1875 [==============================] - 6s 3ms/step - loss: 0.0023\n",
            "Epoch 46/50\n",
            "1875/1875 [==============================] - 6s 3ms/step - loss: 0.0023\n",
            "Epoch 47/50\n",
            "1875/1875 [==============================] - 6s 3ms/step - loss: 0.0023\n",
            "Epoch 48/50\n",
            "1875/1875 [==============================] - 6s 3ms/step - loss: 0.0016\n",
            "Epoch 49/50\n",
            "1875/1875 [==============================] - 6s 3ms/step - loss: 0.0015\n",
            "Epoch 50/50\n",
            "1875/1875 [==============================] - 6s 3ms/step - loss: 0.0018\n"
          ]
        },
        {
          "output_type": "execute_result",
          "data": {
            "text/plain": [
              "<keras.callbacks.History at 0x7f77101f22d0>"
            ]
          },
          "metadata": {},
          "execution_count": 9
        }
      ]
    },
    {
      "cell_type": "markdown",
      "metadata": {
        "id": "cYXXkbeE9zB5"
      },
      "source": [
        "Check Percent Rate "
      ]
    },
    {
      "cell_type": "code",
      "metadata": {
        "id": "bPaMdjwAA3rV",
        "colab": {
          "base_uri": "https://localhost:8080/"
        },
        "outputId": "a47203dd-a4d1-466c-862d-e307250b6554"
      },
      "source": [
        "Ztest = model.predict(Xtest)\n",
        "np.sum(Ztest.argmax(axis=1) == Ytest)/len(Ztest)"
      ],
      "execution_count": 10,
      "outputs": [
        {
          "output_type": "execute_result",
          "data": {
            "text/plain": [
              "0.9899"
            ]
          },
          "metadata": {},
          "execution_count": 10
        }
      ]
    },
    {
      "cell_type": "markdown",
      "metadata": {
        "id": "DpArYnNwTpXW"
      },
      "source": [
        "Dowload Mnist Thai"
      ]
    },
    {
      "cell_type": "code",
      "metadata": {
        "id": "FSANmiX3-Iaa"
      },
      "source": [
        "!wget https://github.com/kittinan/thai-handwriting-number/blob/master/src/thainumber_28.pkl"
      ],
      "execution_count": null,
      "outputs": []
    },
    {
      "cell_type": "markdown",
      "metadata": {
        "id": "rA4shgsZTuM2"
      },
      "source": [
        "Import Libary"
      ]
    },
    {
      "cell_type": "code",
      "metadata": {
        "id": "EOuxEoLETtnO"
      },
      "source": [
        "import pickle \n",
        "import numpy as np \n",
        "import matplotlib.pyplot as plt "
      ],
      "execution_count": 11,
      "outputs": []
    },
    {
      "cell_type": "markdown",
      "metadata": {
        "id": "ZVx4UlHsTxN_"
      },
      "source": [
        "\n",
        "Load Data"
      ]
    },
    {
      "cell_type": "code",
      "metadata": {
        "colab": {
          "base_uri": "https://localhost:8080/"
        },
        "id": "N83DGKaQTwuX",
        "outputId": "c75f79fe-0874-428e-bc73-0fe93e9bf232"
      },
      "source": [
        "data = pickle.load(open('thainumber_28.pkl','rb'))\n",
        "X = data['X']\n",
        "Y = data['Y']\n",
        "\n",
        "print(X.shape)\n",
        "print(len(np.unique(Y)))"
      ],
      "execution_count": 12,
      "outputs": [
        {
          "output_type": "stream",
          "name": "stdout",
          "text": [
            "(1665, 28, 28, 1)\n",
            "10\n"
          ]
        }
      ]
    },
    {
      "cell_type": "markdown",
      "metadata": {
        "id": "dkqBO2ogUDOG"
      },
      "source": [
        "show data"
      ]
    },
    {
      "cell_type": "code",
      "metadata": {
        "id": "Qb7O949-T3Rv"
      },
      "source": [
        "plt.imshow(X[0][:,:,0],cmap='gray')\n",
        "plt.show()"
      ],
      "execution_count": null,
      "outputs": []
    },
    {
      "cell_type": "markdown",
      "metadata": {
        "id": "3SaurNTzUKwe"
      },
      "source": [
        "Random Show"
      ]
    },
    {
      "cell_type": "code",
      "metadata": {
        "id": "sNhdYk78UH3u"
      },
      "source": [
        "n = 10 \n",
        "for j,i in enumerate(np.random.choice(len(X), n)):\n",
        "  plt.subplot(1,n,j+1)\n",
        "  plt.imshow(X[i,:,:,0])\n",
        "  plt.axis('off')\n",
        "plt.show()"
      ],
      "execution_count": null,
      "outputs": []
    },
    {
      "cell_type": "markdown",
      "metadata": {
        "id": "wrr777A7UPKe"
      },
      "source": [
        "Resizes"
      ]
    },
    {
      "cell_type": "code",
      "metadata": {
        "id": "lZvstCRBUObG"
      },
      "source": [
        "from skimage.transform import resize\n",
        "\n",
        "_X = []\n",
        "for x in X:\n",
        "  _X.append(resize(x,(32,32)))\n",
        "X = np.array(_X)\n",
        "del _X"
      ],
      "execution_count": 15,
      "outputs": []
    },
    {
      "cell_type": "markdown",
      "metadata": {
        "id": "5bJXhFKyUU9N"
      },
      "source": [
        "Train Test Split"
      ]
    },
    {
      "cell_type": "code",
      "metadata": {
        "id": "c4ovtJUWUR2-"
      },
      "source": [
        "idx = np.random.permutation(np.arange(len(X)))\n",
        "split = 1665*9 //10\n",
        "train_idx = idx[:split]\n",
        "test_idx = idx[split:]\n",
        "Xtrain , Ytrain = X[train_idx] / 255. , Y[train_idx].astype(np.int)\n",
        "Xtest  , Ytest = X[test_idx] / 255. , Y[test_idx].astype(np.int)"
      ],
      "execution_count": 26,
      "outputs": []
    },
    {
      "cell_type": "markdown",
      "metadata": {
        "id": "KsuQexrwUbAJ"
      },
      "source": [
        "Model Mnist Predict Mnist Thai "
      ]
    },
    {
      "cell_type": "code",
      "metadata": {
        "colab": {
          "base_uri": "https://localhost:8080/"
        },
        "id": "s5ZtySjcUW4G",
        "outputId": "0f2b039c-c997-49eb-e973-92af397e851a"
      },
      "source": [
        "Ztest = model.predict(Xtest)\n",
        "np.sum(Ztest.argmax(axis=1) == Ytest)/ len(Ztest)"
      ],
      "execution_count": 27,
      "outputs": [
        {
          "output_type": "execute_result",
          "data": {
            "text/plain": [
              "0.9880239520958084"
            ]
          },
          "metadata": {},
          "execution_count": 27
        }
      ]
    },
    {
      "cell_type": "markdown",
      "metadata": {
        "id": "Htqpb6xNUpLa"
      },
      "source": [
        "Train Lenet Mnist with Mnist Thai for Transfer learning "
      ]
    },
    {
      "cell_type": "code",
      "metadata": {
        "colab": {
          "base_uri": "https://localhost:8080/"
        },
        "id": "NLfVqnlFUhWP",
        "outputId": "c0166690-8810-4a98-a99a-77c2351526b3"
      },
      "source": [
        "model.fit(Xtrain,Ytrain,epochs=25)"
      ],
      "execution_count": 22,
      "outputs": [
        {
          "output_type": "stream",
          "name": "stdout",
          "text": [
            "Epoch 1/25\n",
            "47/47 [==============================] - 0s 6ms/step - loss: 0.2818\n",
            "Epoch 2/25\n",
            "47/47 [==============================] - 0s 4ms/step - loss: 0.2005\n",
            "Epoch 3/25\n",
            "47/47 [==============================] - 0s 4ms/step - loss: 0.1527\n",
            "Epoch 4/25\n",
            "47/47 [==============================] - 0s 4ms/step - loss: 0.1164\n",
            "Epoch 5/25\n",
            "47/47 [==============================] - 0s 5ms/step - loss: 0.0985\n",
            "Epoch 6/25\n",
            "47/47 [==============================] - 0s 4ms/step - loss: 0.0783\n",
            "Epoch 7/25\n",
            "47/47 [==============================] - 0s 4ms/step - loss: 0.0712\n",
            "Epoch 8/25\n",
            "47/47 [==============================] - 0s 4ms/step - loss: 0.0592\n",
            "Epoch 9/25\n",
            "47/47 [==============================] - 0s 5ms/step - loss: 0.0530\n",
            "Epoch 10/25\n",
            "47/47 [==============================] - 0s 5ms/step - loss: 0.0501\n",
            "Epoch 11/25\n",
            "47/47 [==============================] - 0s 5ms/step - loss: 0.0435\n",
            "Epoch 12/25\n",
            "47/47 [==============================] - 0s 5ms/step - loss: 0.0417\n",
            "Epoch 13/25\n",
            "47/47 [==============================] - 0s 4ms/step - loss: 0.0381\n",
            "Epoch 14/25\n",
            "47/47 [==============================] - 0s 4ms/step - loss: 0.0358\n",
            "Epoch 15/25\n",
            "47/47 [==============================] - 0s 5ms/step - loss: 0.0336\n",
            "Epoch 16/25\n",
            "47/47 [==============================] - 0s 5ms/step - loss: 0.0324\n",
            "Epoch 17/25\n",
            "47/47 [==============================] - 0s 4ms/step - loss: 0.0304\n",
            "Epoch 18/25\n",
            "47/47 [==============================] - 0s 4ms/step - loss: 0.0296\n",
            "Epoch 19/25\n",
            "47/47 [==============================] - 0s 5ms/step - loss: 0.0283\n",
            "Epoch 20/25\n",
            "47/47 [==============================] - 0s 4ms/step - loss: 0.0268\n",
            "Epoch 21/25\n",
            "47/47 [==============================] - 0s 4ms/step - loss: 0.0257\n",
            "Epoch 22/25\n",
            "47/47 [==============================] - 0s 5ms/step - loss: 0.0250\n",
            "Epoch 23/25\n",
            "47/47 [==============================] - 0s 5ms/step - loss: 0.0243\n",
            "Epoch 24/25\n",
            "47/47 [==============================] - 0s 5ms/step - loss: 0.0236\n",
            "Epoch 25/25\n",
            "47/47 [==============================] - 0s 4ms/step - loss: 0.0231\n"
          ]
        },
        {
          "output_type": "execute_result",
          "data": {
            "text/plain": [
              "<keras.callbacks.History at 0x7f769e45cb10>"
            ]
          },
          "metadata": {},
          "execution_count": 22
        }
      ]
    },
    {
      "cell_type": "markdown",
      "metadata": {
        "id": "Suwt5VOsU8N2"
      },
      "source": [
        "Predict Transfer learning"
      ]
    },
    {
      "cell_type": "code",
      "metadata": {
        "colab": {
          "base_uri": "https://localhost:8080/"
        },
        "id": "vt2_K_3IU27-",
        "outputId": "689f0f52-7d28-4403-ab8a-fe6436f65ab2"
      },
      "source": [
        "Ztest = model.predict(Xtest)\n",
        "np.sum(Ztest.argmax(axis=1) == Ytest)/ len(Ztest)"
      ],
      "execution_count": 28,
      "outputs": [
        {
          "output_type": "execute_result",
          "data": {
            "text/plain": [
              "0.9880239520958084"
            ]
          },
          "metadata": {},
          "execution_count": 28
        }
      ]
    },
    {
      "cell_type": "code",
      "metadata": {
        "id": "ZNLKnad1U7f5"
      },
      "source": [
        " "
      ],
      "execution_count": null,
      "outputs": []
    }
  ]
}