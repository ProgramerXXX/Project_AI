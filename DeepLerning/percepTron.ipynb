{
 "cells": [
  {
   "cell_type": "code",
   "execution_count": 1,
   "metadata": {},
   "outputs": [],
   "source": [
    "import numpy as np \n",
    "from matplotlib import pyplot as plt "
   ]
  },
  {
   "cell_type": "code",
   "execution_count": 4,
   "metadata": {},
   "outputs": [],
   "source": [
    "def perseptron(X,T,lr=0.1,w=None):\n",
    "    X = np.hstack((np.array(X),np.ones((len(X),1))))\n",
    "    if w is None:\n",
    "        w = X[np.random.randint(0,len(X))].copy()\n",
    "    done = False\n",
    "    while not done:\n",
    "        for i,x in enumerate(X):\n",
    "            done = True\n",
    "            if T[i] * np.dot(x,w) <= 0:\n",
    "                w += lr*x*T[i]\n",
    "                done = False\n",
    "    return w\n"
   ]
  },
  {
   "cell_type": "code",
   "execution_count": 10,
   "metadata": {},
   "outputs": [],
   "source": [
    "def plot_hyperlane2d(X,T,w):\n",
    "    X = np.array(X)\n",
    "    T = np.array(T)\n",
    "    plt.plot(X[T==1,0],X[T==1,1],'go')\n",
    "    plt.plot(X[T==-1,0],X[T==-1,1],'ro')\n",
    "    xlim = plt.gca().get_xlim()\n",
    "    slope = -w[0] / w[1]\n",
    "    bias = -w[-1] / w[1]\n",
    "    plt.plot(xlim,[xlim[0]*slope + bias , xlim[1] * slope + bias ], 'b')\n"
   ]
  },
  {
   "cell_type": "markdown",
   "metadata": {},
   "source": [
    "OR Problem\n"
   ]
  },
  {
   "cell_type": "code",
   "execution_count": 12,
   "metadata": {},
   "outputs": [],
   "source": [
    "X = [[1,1],[1,-1],[-1,1],[-1,-1]]\n",
    "T = [1,1,1,-1]"
   ]
  },
  {
   "cell_type": "markdown",
   "metadata": {},
   "source": [
    "AND Problem"
   ]
  },
  {
   "cell_type": "code",
   "execution_count": 7,
   "metadata": {},
   "outputs": [],
   "source": [
    "X = [[1,1],[1,-1],[-1,1],[-1,-1]]\n",
    "T = [1,-1,-1,-1]"
   ]
  },
  {
   "cell_type": "markdown",
   "metadata": {},
   "source": [
    "XOR Problem"
   ]
  },
  {
   "cell_type": "code",
   "execution_count": 8,
   "metadata": {},
   "outputs": [],
   "source": [
    "X = [[1,1],[1,-1],[-1,1],[-1,-1]]\n",
    "T = [1,-1,-1,1]"
   ]
  },
  {
   "cell_type": "code",
   "execution_count": 13,
   "metadata": {},
   "outputs": [
    {
     "name": "stdout",
     "output_type": "stream",
     "text": [
      "[1. 1. 1.]\n"
     ]
    },
    {
     "data": {
      "image/png": "[encoded data removed]",
      "text/plain": [
       "<Figure size 432x288 with 1 Axes>"
      ]
     },
     "metadata": {
      "needs_background": "light"
     },
     "output_type": "display_data"
    }
   ],
   "source": [
    "w = perseptron(X,T,lr=1e-1)\n",
    "print(w)\n",
    "plot_hyperlane2d(X,T,w)"
   ]
  }
 ],
 "metadata": {
  "interpreter": {
   "hash": "fbcb173fc87e39082b7a27eb521fb255480c0c279ccf10098ae0d92ed2e9a883"
  },
  "kernelspec": {
   "display_name": "Python 3.8.10 64-bit (windows store)",
   "name": "python3"
  },
  "language_info": {
   "codemirror_mode": {
    "name": "ipython",
    "version": 3
   },
   "file_extension": ".py",
   "mimetype": "text/x-python",
   "name": "python",
   "nbconvert_exporter": "python",
   "pygments_lexer": "ipython3",
   "version": "3.8.10"
  },
  "orig_nbformat": 4
 },
 "nbformat": 4,
 "nbformat_minor": 2
}
