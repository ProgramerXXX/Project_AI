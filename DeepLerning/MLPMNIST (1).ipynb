{
  "nbformat": 4,
  "nbformat_minor": 0,
  "metadata": {
    "colab": {
      "name": "MLPMNIST.ipynb",
      "provenance": []
    },
    "kernelspec": {
      "name": "python3",
      "display_name": "Python 3"
    },
    "language_info": {
      "name": "python"
    },
    "accelerator": "GPU"
  },
  "cells": [
    {
      "cell_type": "markdown",
      "metadata": {
        "id": "v4dDQ5cBWEIk"
      },
      "source": [
        "Load DataSET"
      ]
    },
    {
      "cell_type": "code",
      "metadata": {
        "id": "gUCy8Z9uOQzd"
      },
      "source": [
        "import tensorflow as tf \n",
        "import matplotlib.pyplot as plt \n",
        "\n",
        "(X_train,Y_train),(X_test,Y_test) = tf.keras.datasets.mnist.load_data()\n",
        "plt.imshow(X_train[0], cmap='gray')\n",
        "plt.show()"
      ],
      "execution_count": null,
      "outputs": []
    },
    {
      "cell_type": "markdown",
      "metadata": {
        "id": "4xJNXS0DWIB3"
      },
      "source": [
        "Check GPU Runtime"
      ]
    },
    {
      "cell_type": "code",
      "metadata": {
        "id": "KfEtDk3qOgUc"
      },
      "source": [
        "!nvidia-smi"
      ],
      "execution_count": null,
      "outputs": []
    },
    {
      "cell_type": "code",
      "metadata": {
        "id": "DtPP2Uw0On0N"
      },
      "source": [
        "import numpy as np "
      ],
      "execution_count": 2,
      "outputs": []
    },
    {
      "cell_type": "markdown",
      "metadata": {
        "id": "mBXHesrPWOEj"
      },
      "source": [
        "Change Data To Four Dimansion"
      ]
    },
    {
      "cell_type": "code",
      "metadata": {
        "colab": {
          "base_uri": "https://localhost:8080/"
        },
        "id": "_i76CP2QO4gk",
        "outputId": "760b91e5-96a4-4d5b-e985-c972a27232f2"
      },
      "source": [
        "X_train[:,:,:,None].shape"
      ],
      "execution_count": 3,
      "outputs": [
        {
          "output_type": "execute_result",
          "data": {
            "text/plain": [
              "(60000, 28, 28, 1)"
            ]
          },
          "metadata": {},
          "execution_count": 3
        }
      ]
    },
    {
      "cell_type": "code",
      "metadata": {
        "colab": {
          "base_uri": "https://localhost:8080/"
        },
        "id": "wfobWSosRCMf",
        "outputId": "7edc09e6-6fae-4bc6-9daa-ba268fd8a512"
      },
      "source": [
        "Y_train[0]"
      ],
      "execution_count": 4,
      "outputs": [
        {
          "output_type": "execute_result",
          "data": {
            "text/plain": [
              "5"
            ]
          },
          "metadata": {},
          "execution_count": 4
        }
      ]
    },
    {
      "cell_type": "markdown",
      "metadata": {
        "id": "UqXhhS1HWVFU"
      },
      "source": [
        "Reshape Tensor To One Dimansion For Training in MLP"
      ]
    },
    {
      "cell_type": "code",
      "metadata": {
        "id": "iYV5YflYSfwr"
      },
      "source": [
        "X_train = X_train.reshape(-1,28*28)\n",
        "X_test = X_test.reshape(-1,28*28)"
      ],
      "execution_count": 5,
      "outputs": []
    },
    {
      "cell_type": "markdown",
      "metadata": {
        "id": "splzsY2gWiJb"
      },
      "source": [
        "One-Hot Encoder "
      ]
    },
    {
      "cell_type": "code",
      "metadata": {
        "id": "VCD2C0V8Sv3L"
      },
      "source": [
        "def onehot(Y,nclass=10):\n",
        "  Y_ = np.zeros((Y.shape[0],nclass))\n",
        "  for i,y in enumerate(Y):\n",
        "    Y_[i,Y[i]] = 1\n",
        "  return Y_"
      ],
      "execution_count": 6,
      "outputs": []
    },
    {
      "cell_type": "code",
      "metadata": {
        "id": "Ggl56Xj3W_GP"
      },
      "source": [
        "Y_train = onehot(Y_train)\n",
        "Y_test = onehot(Y_test)"
      ],
      "execution_count": 7,
      "outputs": []
    },
    {
      "cell_type": "markdown",
      "metadata": {
        "id": "qdWNTLxpYNXt"
      },
      "source": [
        "Train MLP "
      ]
    },
    {
      "cell_type": "code",
      "metadata": {
        "colab": {
          "base_uri": "https://localhost:8080/"
        },
        "id": "WMgC6GvsXMFD",
        "outputId": "0f080de5-5a13-4a18-d8fd-acf95f1e8e3b"
      },
      "source": [
        "d_in = (X_train.shape[1],)\n",
        "model = tf.keras.Sequential()\n",
        "model.add(tf.keras.layers.Dense(200,input_shape=d_in,activation='relu'))\n",
        "model.add(tf.keras.layers.Dense(200,input_shape=d_in,activation='relu'))\n",
        "model.add(tf.keras.layers.Dense(10,activation='softmax'))\n",
        "\n",
        "model.compile(loss=tf.keras.losses.MeanSquaredError(),\n",
        "              optimizer=tf.keras.optimizers.SGD(learning_rate=0.001))\n",
        "\n",
        "model.fit(X_train/255. , Y_train, epochs=50 , validation_data=(X_test,Y_test) )\n",
        "\n"
      ],
      "execution_count": 8,
      "outputs": [
        {
          "output_type": "stream",
          "name": "stdout",
          "text": [
            "Epoch 1/50\n",
            "1875/1875 [==============================] - 7s 2ms/step - loss: 0.0915 - val_loss: 0.1775\n",
            "Epoch 2/50\n",
            "1875/1875 [==============================] - 4s 2ms/step - loss: 0.0908 - val_loss: 0.1719\n",
            "Epoch 3/50\n",
            "1875/1875 [==============================] - 4s 2ms/step - loss: 0.0901 - val_loss: 0.1658\n",
            "Epoch 4/50\n",
            "1875/1875 [==============================] - 4s 2ms/step - loss: 0.0895 - val_loss: 0.1606\n",
            "Epoch 5/50\n",
            "1875/1875 [==============================] - 4s 2ms/step - loss: 0.0888 - val_loss: 0.1556\n",
            "Epoch 6/50\n",
            "1875/1875 [==============================] - 4s 2ms/step - loss: 0.0881 - val_loss: 0.1511\n",
            "Epoch 7/50\n",
            "1875/1875 [==============================] - 4s 2ms/step - loss: 0.0875 - val_loss: 0.1464\n",
            "Epoch 8/50\n",
            "1875/1875 [==============================] - 4s 2ms/step - loss: 0.0868 - val_loss: 0.1418\n",
            "Epoch 9/50\n",
            "1875/1875 [==============================] - 4s 2ms/step - loss: 0.0860 - val_loss: 0.1372\n",
            "Epoch 10/50\n",
            "1875/1875 [==============================] - 4s 2ms/step - loss: 0.0852 - val_loss: 0.1332\n",
            "Epoch 11/50\n",
            "1875/1875 [==============================] - 4s 2ms/step - loss: 0.0844 - val_loss: 0.1299\n",
            "Epoch 12/50\n",
            "1875/1875 [==============================] - 4s 2ms/step - loss: 0.0836 - val_loss: 0.1258\n",
            "Epoch 13/50\n",
            "1875/1875 [==============================] - 4s 2ms/step - loss: 0.0827 - val_loss: 0.1216\n",
            "Epoch 14/50\n",
            "1875/1875 [==============================] - 4s 2ms/step - loss: 0.0818 - val_loss: 0.1178\n",
            "Epoch 15/50\n",
            "1875/1875 [==============================] - 4s 2ms/step - loss: 0.0808 - val_loss: 0.1135\n",
            "Epoch 16/50\n",
            "1875/1875 [==============================] - 4s 2ms/step - loss: 0.0798 - val_loss: 0.1088\n",
            "Epoch 17/50\n",
            "1875/1875 [==============================] - 4s 2ms/step - loss: 0.0788 - val_loss: 0.1050\n",
            "Epoch 18/50\n",
            "1875/1875 [==============================] - 4s 2ms/step - loss: 0.0778 - val_loss: 0.1009\n",
            "Epoch 19/50\n",
            "1875/1875 [==============================] - 4s 2ms/step - loss: 0.0767 - val_loss: 0.0974\n",
            "Epoch 20/50\n",
            "1875/1875 [==============================] - 4s 2ms/step - loss: 0.0755 - val_loss: 0.0945\n",
            "Epoch 21/50\n",
            "1875/1875 [==============================] - 4s 2ms/step - loss: 0.0743 - val_loss: 0.0922\n",
            "Epoch 22/50\n",
            "1875/1875 [==============================] - 4s 2ms/step - loss: 0.0731 - val_loss: 0.0902\n",
            "Epoch 23/50\n",
            "1875/1875 [==============================] - 4s 2ms/step - loss: 0.0718 - val_loss: 0.0882\n",
            "Epoch 24/50\n",
            "1875/1875 [==============================] - 4s 2ms/step - loss: 0.0704 - val_loss: 0.0865\n",
            "Epoch 25/50\n",
            "1875/1875 [==============================] - 4s 2ms/step - loss: 0.0690 - val_loss: 0.0849\n",
            "Epoch 26/50\n",
            "1875/1875 [==============================] - 4s 2ms/step - loss: 0.0676 - val_loss: 0.0832\n",
            "Epoch 27/50\n",
            "1875/1875 [==============================] - 4s 2ms/step - loss: 0.0661 - val_loss: 0.0815\n",
            "Epoch 28/50\n",
            "1875/1875 [==============================] - 4s 2ms/step - loss: 0.0647 - val_loss: 0.0792\n",
            "Epoch 29/50\n",
            "1875/1875 [==============================] - 4s 2ms/step - loss: 0.0632 - val_loss: 0.0769\n",
            "Epoch 30/50\n",
            "1875/1875 [==============================] - 4s 2ms/step - loss: 0.0617 - val_loss: 0.0750\n",
            "Epoch 31/50\n",
            "1875/1875 [==============================] - 4s 2ms/step - loss: 0.0603 - val_loss: 0.0729\n",
            "Epoch 32/50\n",
            "1875/1875 [==============================] - 4s 2ms/step - loss: 0.0589 - val_loss: 0.0700\n",
            "Epoch 33/50\n",
            "1875/1875 [==============================] - 4s 2ms/step - loss: 0.0575 - val_loss: 0.0673\n",
            "Epoch 34/50\n",
            "1875/1875 [==============================] - 4s 2ms/step - loss: 0.0561 - val_loss: 0.0644\n",
            "Epoch 35/50\n",
            "1875/1875 [==============================] - 4s 2ms/step - loss: 0.0548 - val_loss: 0.0618\n",
            "Epoch 36/50\n",
            "1875/1875 [==============================] - 4s 2ms/step - loss: 0.0535 - val_loss: 0.0592\n",
            "Epoch 37/50\n",
            "1875/1875 [==============================] - 4s 2ms/step - loss: 0.0522 - val_loss: 0.0566\n",
            "Epoch 38/50\n",
            "1875/1875 [==============================] - 4s 2ms/step - loss: 0.0509 - val_loss: 0.0542\n",
            "Epoch 39/50\n",
            "1875/1875 [==============================] - 4s 2ms/step - loss: 0.0497 - val_loss: 0.0520\n",
            "Epoch 40/50\n",
            "1875/1875 [==============================] - 4s 2ms/step - loss: 0.0485 - val_loss: 0.0503\n",
            "Epoch 41/50\n",
            "1875/1875 [==============================] - 4s 2ms/step - loss: 0.0474 - val_loss: 0.0485\n",
            "Epoch 42/50\n",
            "1875/1875 [==============================] - 4s 2ms/step - loss: 0.0463 - val_loss: 0.0471\n",
            "Epoch 43/50\n",
            "1875/1875 [==============================] - 4s 2ms/step - loss: 0.0452 - val_loss: 0.0459\n",
            "Epoch 44/50\n",
            "1875/1875 [==============================] - 4s 2ms/step - loss: 0.0441 - val_loss: 0.0445\n",
            "Epoch 45/50\n",
            "1875/1875 [==============================] - 4s 2ms/step - loss: 0.0431 - val_loss: 0.0427\n",
            "Epoch 46/50\n",
            "1875/1875 [==============================] - 4s 2ms/step - loss: 0.0421 - val_loss: 0.0416\n",
            "Epoch 47/50\n",
            "1875/1875 [==============================] - 4s 2ms/step - loss: 0.0411 - val_loss: 0.0402\n",
            "Epoch 48/50\n",
            "1875/1875 [==============================] - 4s 2ms/step - loss: 0.0401 - val_loss: 0.0389\n",
            "Epoch 49/50\n",
            "1875/1875 [==============================] - 4s 2ms/step - loss: 0.0392 - val_loss: 0.0375\n",
            "Epoch 50/50\n",
            "1875/1875 [==============================] - 4s 2ms/step - loss: 0.0383 - val_loss: 0.0365\n"
          ]
        },
        {
          "output_type": "execute_result",
          "data": {
            "text/plain": [
              "<keras.callbacks.History at 0x7f93800a9950>"
            ]
          },
          "metadata": {},
          "execution_count": 8
        }
      ]
    },
    {
      "cell_type": "code",
      "metadata": {
        "id": "N21DKrjwZzx-",
        "colab": {
          "base_uri": "https://localhost:8080/"
        },
        "outputId": "02599ad6-017f-4797-b525-9bc1c4ba0ed6"
      },
      "source": [
        "z = model.predict(X_test/255.)\n",
        "print(np.sum(z.argmax(axis=1) == Y_test.argmax(axis=1)) / len(Y_test))"
      ],
      "execution_count": 10,
      "outputs": [
        {
          "output_type": "stream",
          "name": "stdout",
          "text": [
            "0.8146\n"
          ]
        }
      ]
    }
  ]
}