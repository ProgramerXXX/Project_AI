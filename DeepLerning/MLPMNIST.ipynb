{
  "nbformat": 4,
  "nbformat_minor": 0,
  "metadata": {
    "colab": {
      "name": "Untitled14.ipynb",
      "provenance": []
    },
    "kernelspec": {
      "name": "python3",
      "display_name": "Python 3"
    },
    "language_info": {
      "name": "python"
    },
    "accelerator": "GPU"
  },
  "cells": [
    {
      "cell_type": "markdown",
      "metadata": {
        "id": "v4dDQ5cBWEIk"
      },
      "source": [
        "Load DataSET"
      ]
    },
    {
      "cell_type": "code",
      "metadata": {
        "id": "gUCy8Z9uOQzd"
      },
      "source": [
        "import tensorflow as tf \n",
        "import matplotlib.pyplot as plt \n",
        "\n",
        "(X_train,Y_train),(X_test,Y_test) = tf.keras.datasets.mnist.load_data()\n",
        "plt.imshow(X_train[0], cmap='gray')\n",
        "plt.show()"
      ],
      "execution_count": null,
      "outputs": []
    },
    {
      "cell_type": "markdown",
      "metadata": {
        "id": "4xJNXS0DWIB3"
      },
      "source": [
        "Check GPU Runtime"
      ]
    },
    {
      "cell_type": "code",
      "metadata": {
        "id": "KfEtDk3qOgUc"
      },
      "source": [
        "!nvidia-smi"
      ],
      "execution_count": null,
      "outputs": []
    },
    {
      "cell_type": "code",
      "metadata": {
        "id": "DtPP2Uw0On0N"
      },
      "source": [
        "import numpy as np "
      ],
      "execution_count": 3,
      "outputs": []
    },
    {
      "cell_type": "markdown",
      "metadata": {
        "id": "mBXHesrPWOEj"
      },
      "source": [
        "Change Data To Four Dimansion"
      ]
    },
    {
      "cell_type": "code",
      "metadata": {
        "colab": {
          "base_uri": "https://localhost:8080/"
        },
        "id": "_i76CP2QO4gk",
        "outputId": "c4b217a0-d3d7-4b1b-b5fd-0575b5738e4a"
      },
      "source": [
        "X_train[:,:,:,None].shape"
      ],
      "execution_count": 4,
      "outputs": [
        {
          "output_type": "execute_result",
          "data": {
            "text/plain": [
              "(60000, 28, 28, 1)"
            ]
          },
          "metadata": {},
          "execution_count": 4
        }
      ]
    },
    {
      "cell_type": "code",
      "metadata": {
        "colab": {
          "base_uri": "https://localhost:8080/"
        },
        "id": "wfobWSosRCMf",
        "outputId": "99001fe5-d1f6-4a0c-b155-c7894affb77b"
      },
      "source": [
        "Y_train[0]"
      ],
      "execution_count": 5,
      "outputs": [
        {
          "output_type": "execute_result",
          "data": {
            "text/plain": [
              "5"
            ]
          },
          "metadata": {},
          "execution_count": 5
        }
      ]
    },
    {
      "cell_type": "markdown",
      "metadata": {
        "id": "UqXhhS1HWVFU"
      },
      "source": [
        "Reshape Tensor To One Dimansion For Training in MLP"
      ]
    },
    {
      "cell_type": "code",
      "metadata": {
        "id": "iYV5YflYSfwr"
      },
      "source": [
        "X_train = X_train.reshape(-1,28*28)\n",
        "X_test = X_test.reshape(-1,28*28)"
      ],
      "execution_count": 6,
      "outputs": []
    },
    {
      "cell_type": "markdown",
      "metadata": {
        "id": "splzsY2gWiJb"
      },
      "source": [
        "One-Hot Encoder "
      ]
    },
    {
      "cell_type": "code",
      "metadata": {
        "id": "VCD2C0V8Sv3L"
      },
      "source": [
        "def onehot(Y,nclass=10):\n",
        "  Y_ = np.zeros((Y.shape[0],nclass))\n",
        "  for i,y in enumerate(Y):\n",
        "    Y_[i,Y[i]] = 1\n",
        "  return Y_"
      ],
      "execution_count": 7,
      "outputs": []
    },
    {
      "cell_type": "code",
      "metadata": {
        "id": "Ggl56Xj3W_GP"
      },
      "source": [
        "Y_train = onehot(Y_train)\n",
        "Y_test = onehot(Y_test)"
      ],
      "execution_count": 8,
      "outputs": []
    },
    {
      "cell_type": "markdown",
      "metadata": {
        "id": "qdWNTLxpYNXt"
      },
      "source": [
        "Train MLP "
      ]
    },
    {
      "cell_type": "code",
      "metadata": {
        "colab": {
          "base_uri": "https://localhost:8080/"
        },
        "id": "WMgC6GvsXMFD",
        "outputId": "06eec982-b6bf-4424-dd60-02ef06ede324"
      },
      "source": [
        "d_in = (X_train.shape[1],)\n",
        "model = tf.keras.Sequential()\n",
        "model.add(tf.keras.layers.Dense(200,input_shape=d_in,activation='relu'))\n",
        "model.add(tf.keras.layers.Dense(200,input_shape=d_in,activation='relu'))\n",
        "model.add(tf.keras.layers.Dense(10,activation='softmax'))\n",
        "\n",
        "model.compile(loss=tf.keras.losses.MeanSquaredError(),\n",
        "              optimizer=tf.keras.optimizers.SGD(learning_rate=0.001))\n",
        "\n",
        "model.fit(X_train/255. , Y_train, epochs=50 , validation_data=(X_test,Y_test) )\n",
        "\n"
      ],
      "execution_count": 9,
      "outputs": [
        {
          "output_type": "stream",
          "name": "stdout",
          "text": [
            "Epoch 1/50\n",
            "1875/1875 [==============================] - 7s 2ms/step - loss: 0.0904 - val_loss: 0.1722\n",
            "Epoch 2/50\n",
            "1875/1875 [==============================] - 4s 2ms/step - loss: 0.0898 - val_loss: 0.1644\n",
            "Epoch 3/50\n",
            "1875/1875 [==============================] - 5s 2ms/step - loss: 0.0893 - val_loss: 0.1559\n",
            "Epoch 4/50\n",
            "1875/1875 [==============================] - 5s 2ms/step - loss: 0.0888 - val_loss: 0.1478\n",
            "Epoch 5/50\n",
            "1875/1875 [==============================] - 4s 2ms/step - loss: 0.0882 - val_loss: 0.1402\n",
            "Epoch 6/50\n",
            "1875/1875 [==============================] - 4s 2ms/step - loss: 0.0877 - val_loss: 0.1332\n",
            "Epoch 7/50\n",
            "1875/1875 [==============================] - 4s 2ms/step - loss: 0.0871 - val_loss: 0.1277\n",
            "Epoch 8/50\n",
            "1875/1875 [==============================] - 4s 2ms/step - loss: 0.0865 - val_loss: 0.1224\n",
            "Epoch 9/50\n",
            "1875/1875 [==============================] - 4s 2ms/step - loss: 0.0858 - val_loss: 0.1179\n",
            "Epoch 10/50\n",
            "1875/1875 [==============================] - 5s 2ms/step - loss: 0.0851 - val_loss: 0.1143\n",
            "Epoch 11/50\n",
            "1875/1875 [==============================] - 4s 2ms/step - loss: 0.0844 - val_loss: 0.1116\n",
            "Epoch 12/50\n",
            "1875/1875 [==============================] - 4s 2ms/step - loss: 0.0836 - val_loss: 0.1095\n",
            "Epoch 13/50\n",
            "1875/1875 [==============================] - 4s 2ms/step - loss: 0.0827 - val_loss: 0.1071\n",
            "Epoch 14/50\n",
            "1875/1875 [==============================] - 4s 2ms/step - loss: 0.0818 - val_loss: 0.1053\n",
            "Epoch 15/50\n",
            "1875/1875 [==============================] - 4s 2ms/step - loss: 0.0809 - val_loss: 0.1034\n",
            "Epoch 16/50\n",
            "1875/1875 [==============================] - 4s 2ms/step - loss: 0.0799 - val_loss: 0.1012\n",
            "Epoch 17/50\n",
            "1875/1875 [==============================] - 4s 2ms/step - loss: 0.0789 - val_loss: 0.0989\n",
            "Epoch 18/50\n",
            "1875/1875 [==============================] - 4s 2ms/step - loss: 0.0778 - val_loss: 0.0968\n",
            "Epoch 19/50\n",
            "1875/1875 [==============================] - 4s 2ms/step - loss: 0.0767 - val_loss: 0.0948\n",
            "Epoch 20/50\n",
            "1875/1875 [==============================] - 4s 2ms/step - loss: 0.0755 - val_loss: 0.0928\n",
            "Epoch 21/50\n",
            "1875/1875 [==============================] - 5s 2ms/step - loss: 0.0743 - val_loss: 0.0907\n",
            "Epoch 22/50\n",
            "1875/1875 [==============================] - 4s 2ms/step - loss: 0.0730 - val_loss: 0.0887\n",
            "Epoch 23/50\n",
            "1875/1875 [==============================] - 4s 2ms/step - loss: 0.0716 - val_loss: 0.0863\n",
            "Epoch 24/50\n",
            "1875/1875 [==============================] - 4s 2ms/step - loss: 0.0702 - val_loss: 0.0834\n",
            "Epoch 25/50\n",
            "1875/1875 [==============================] - 4s 2ms/step - loss: 0.0688 - val_loss: 0.0807\n",
            "Epoch 26/50\n",
            "1875/1875 [==============================] - 4s 2ms/step - loss: 0.0673 - val_loss: 0.0784\n",
            "Epoch 27/50\n",
            "1875/1875 [==============================] - 4s 2ms/step - loss: 0.0657 - val_loss: 0.0755\n",
            "Epoch 28/50\n",
            "1875/1875 [==============================] - 4s 2ms/step - loss: 0.0642 - val_loss: 0.0727\n",
            "Epoch 29/50\n",
            "1875/1875 [==============================] - 4s 2ms/step - loss: 0.0626 - val_loss: 0.0702\n",
            "Epoch 30/50\n",
            "1875/1875 [==============================] - 4s 2ms/step - loss: 0.0610 - val_loss: 0.0675\n",
            "Epoch 31/50\n",
            "1875/1875 [==============================] - 4s 2ms/step - loss: 0.0594 - val_loss: 0.0652\n",
            "Epoch 32/50\n",
            "1875/1875 [==============================] - 4s 2ms/step - loss: 0.0578 - val_loss: 0.0635\n",
            "Epoch 33/50\n",
            "1875/1875 [==============================] - 4s 2ms/step - loss: 0.0562 - val_loss: 0.0616\n",
            "Epoch 34/50\n",
            "1875/1875 [==============================] - 4s 2ms/step - loss: 0.0547 - val_loss: 0.0596\n",
            "Epoch 35/50\n",
            "1875/1875 [==============================] - 4s 2ms/step - loss: 0.0532 - val_loss: 0.0580\n",
            "Epoch 36/50\n",
            "1875/1875 [==============================] - 4s 2ms/step - loss: 0.0517 - val_loss: 0.0565\n",
            "Epoch 37/50\n",
            "1875/1875 [==============================] - 4s 2ms/step - loss: 0.0503 - val_loss: 0.0546\n",
            "Epoch 38/50\n",
            "1875/1875 [==============================] - 4s 2ms/step - loss: 0.0489 - val_loss: 0.0532\n",
            "Epoch 39/50\n",
            "1875/1875 [==============================] - 4s 2ms/step - loss: 0.0476 - val_loss: 0.0514\n",
            "Epoch 40/50\n",
            "1875/1875 [==============================] - 4s 2ms/step - loss: 0.0464 - val_loss: 0.0499\n",
            "Epoch 41/50\n",
            "1875/1875 [==============================] - 4s 2ms/step - loss: 0.0452 - val_loss: 0.0481\n",
            "Epoch 42/50\n",
            "1875/1875 [==============================] - 4s 2ms/step - loss: 0.0440 - val_loss: 0.0464\n",
            "Epoch 43/50\n",
            "1875/1875 [==============================] - 4s 2ms/step - loss: 0.0429 - val_loss: 0.0450\n",
            "Epoch 44/50\n",
            "1875/1875 [==============================] - 4s 2ms/step - loss: 0.0418 - val_loss: 0.0433\n",
            "Epoch 45/50\n",
            "1875/1875 [==============================] - 4s 2ms/step - loss: 0.0408 - val_loss: 0.0414\n",
            "Epoch 46/50\n",
            "1875/1875 [==============================] - 4s 2ms/step - loss: 0.0398 - val_loss: 0.0397\n",
            "Epoch 47/50\n",
            "1875/1875 [==============================] - 4s 2ms/step - loss: 0.0389 - val_loss: 0.0383\n",
            "Epoch 48/50\n",
            "1875/1875 [==============================] - 4s 2ms/step - loss: 0.0379 - val_loss: 0.0367\n",
            "Epoch 49/50\n",
            "1875/1875 [==============================] - 4s 2ms/step - loss: 0.0370 - val_loss: 0.0356\n",
            "Epoch 50/50\n",
            "1875/1875 [==============================] - 4s 2ms/step - loss: 0.0362 - val_loss: 0.0346\n"
          ]
        },
        {
          "output_type": "execute_result",
          "data": {
            "text/plain": [
              "<keras.callbacks.History at 0x7f634a747110>"
            ]
          },
          "metadata": {},
          "execution_count": 9
        }
      ]
    },
    {
      "cell_type": "code",
      "metadata": {
        "id": "N21DKrjwZzx-"
      },
      "source": [
        ""
      ],
      "execution_count": null,
      "outputs": []
    }
  ]
}